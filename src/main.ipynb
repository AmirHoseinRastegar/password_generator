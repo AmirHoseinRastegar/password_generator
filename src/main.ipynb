{
 "cells": [
  {
   "cell_type": "code",
   "execution_count": 11,
   "id": "f1e91b75",
   "metadata": {},
   "outputs": [
    {
     "name": "stderr",
     "output_type": "stream",
     "text": [
      "[nltk_data] Downloading package words to\n",
      "[nltk_data]     /home/mmdpooyani_19/nltk_data...\n",
      "[nltk_data]   Package words is already up-to-date!\n"
     ]
    }
   ],
   "source": [
    "from abc import ABC, abstractmethod\n",
    "import string\n",
    "import random\n",
    "from typing import List, Optional\n",
    "\n",
    "import nltk\n",
    "\n",
    "nltk.download('words')\n",
    "\n",
    "\n",
    "\n",
    "class PasswordGenerator(ABC):\n",
    "    '''\n",
    "    base class for generating passwords\n",
    "    '''\n",
    "    @abstractmethod\n",
    "    \n",
    "    def generate(self)-> str:\n",
    "        '''\n",
    "        abstract methode of password generating that get inherited by \n",
    "        other classes\n",
    "        '''\n",
    "        pass\n",
    "    \n",
    "\n"
   ]
  },
  {
   "cell_type": "code",
   "execution_count": 12,
   "id": "bdb92850",
   "metadata": {},
   "outputs": [],
   "source": [
    "    \n",
    "class random_pass(PasswordGenerator) :\n",
    "    '''\n",
    "       generates a random password\n",
    "    '''\n",
    "    \n",
    "    def __init__(self, include_number: bool = False, include_symboles: bool = False, length: int = 8) :\n",
    "        self.length=length\n",
    "        self.charachters= string.ascii_letters\n",
    "        if include_number:\n",
    "            self.charachters += string.digits\n",
    "        if include_symboles:\n",
    "            self.charachters += string.punctuation\n",
    "        \n",
    "    def generate(self) -> str:\n",
    "        \n",
    "        '''\n",
    "        generate from specific charachters\n",
    "        '''\n",
    "        return ''.join(random.choice(self.charachters) for _ in range (self.length)) \n",
    "          \n"
   ]
  },
  {
   "cell_type": "code",
   "execution_count": 13,
   "id": "f6200486",
   "metadata": {},
   "outputs": [
    {
     "data": {
      "text/plain": [
       "'UD@@9PODt,|#;[*P<\"?!N<jr=puqL._m*uAV}Bj5T,qC!'"
      ]
     },
     "execution_count": 13,
     "metadata": {},
     "output_type": "execute_result"
    }
   ],
   "source": [
    "pasGen= random_pass(length=45,include_number=True,include_symboles=True)\n",
    "\n",
    "pasGen.generate()"
   ]
  },
  {
   "cell_type": "code",
   "execution_count": 14,
   "id": "535d8d5d",
   "metadata": {},
   "outputs": [],
   "source": [
    "class MemorablePassword(PasswordGenerator):\n",
    "    '''\n",
    "      Generates some chosen words as password\n",
    "    '''\n",
    "    \n",
    "    def __init__(self,\n",
    "                 seperator: str = '_',\n",
    "                 vocabulary: Optional[List[str]] = None,\n",
    "                 words_count = 5,\n",
    "                 caps = False,\n",
    "                 ):\n",
    "      if vocabulary is None:\n",
    "          vocabulary= nltk.corpus.words.words()\n",
    "          \n",
    "      self.caps = caps\n",
    "      self.seperator=seperator\n",
    "      self.vocabulary = vocabulary\n",
    "      self.words_count=words_count\n",
    "      \n",
    "      \n",
    "    def generate(self):\n",
    "      '''\n",
    "      genearetes the password\n",
    "      '''\n",
    "      password_words= [random.choice(self.vocabulary ) for _ in range (self.words_count) ]\n",
    "       \n",
    "      if self.caps:\n",
    "        password_words= [word.upper() for word in password_words]\n",
    "      \n",
    "      return self.seperator.join(password_words)\n",
    "\n",
    "        \n",
    "        \n",
    "    "
   ]
  },
  {
   "cell_type": "code",
   "execution_count": 15,
   "id": "234d1df7",
   "metadata": {},
   "outputs": [
    {
     "data": {
      "text/plain": [
       "'hyperboloidal_filibusterous_engouled_nationalize_potassamide'"
      ]
     },
     "execution_count": 15,
     "metadata": {},
     "output_type": "execute_result"
    }
   ],
   "source": [
    "memo= MemorablePassword(caps=False)\n",
    "\n",
    "memo.generate()"
   ]
  },
  {
   "cell_type": "code",
   "execution_count": 16,
   "id": "ff6e0736",
   "metadata": {},
   "outputs": [],
   "source": [
    "class PinPass(PasswordGenerator):\n",
    "    '''\n",
    "    generates a numeric PIN\n",
    "    '''\n",
    "    \n",
    "    def __init__(self, length= 8):\n",
    "        \n",
    "        self.length=length\n",
    "    \n",
    "    def generate(self):\n",
    "        \n",
    "        pin= (random.choice(string.digits) for _ in range(self.length))\n",
    "        return ''.join(pin)"
   ]
  },
  {
   "cell_type": "code",
   "execution_count": 17,
   "id": "b8d0c607",
   "metadata": {},
   "outputs": [
    {
     "data": {
      "text/plain": [
       "'244550280031967'"
      ]
     },
     "execution_count": 17,
     "metadata": {},
     "output_type": "execute_result"
    }
   ],
   "source": [
    "pin= PinPass(length= 15)\n",
    "\n",
    "pin.generate()"
   ]
  },
  {
   "cell_type": "code",
   "execution_count": null,
   "id": "1d70694b",
   "metadata": {},
   "outputs": [],
   "source": []
  }
 ],
 "metadata": {
  "kernelspec": {
   "display_name": "python_tutorial",
   "language": "python",
   "name": "python3"
  },
  "language_info": {
   "codemirror_mode": {
    "name": "ipython",
    "version": 3
   },
   "file_extension": ".py",
   "mimetype": "text/x-python",
   "name": "python",
   "nbconvert_exporter": "python",
   "pygments_lexer": "ipython3",
   "version": "3.13.5"
  }
 },
 "nbformat": 4,
 "nbformat_minor": 5
}
